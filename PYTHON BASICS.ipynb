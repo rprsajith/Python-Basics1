{
  "nbformat": 4,
  "nbformat_minor": 0,
  "metadata": {
    "colab": {
      "provenance": []
    },
    "kernelspec": {
      "name": "python3",
      "display_name": "Python 3"
    },
    "language_info": {
      "name": "python"
    }
  },
  "cells": [
    {
      "cell_type": "code",
      "execution_count": null,
      "metadata": {
        "colab": {
          "base_uri": "https://localhost:8080/"
        },
        "id": "lE6cI-f9CVAm",
        "outputId": "823b478e-9d47-4c3c-fdfa-2cf561d8d42b"
      },
      "outputs": [
        {
          "output_type": "stream",
          "name": "stdout",
          "text": [
            "sajith\n"
          ]
        }
      ],
      "source": [
        "print(\"sajith\")"
      ]
    },
    {
      "cell_type": "code",
      "source": [
        "#this is brand name#"
      ],
      "metadata": {
        "id": "XkFlZvbXEGBg"
      },
      "execution_count": null,
      "outputs": []
    },
    {
      "cell_type": "code",
      "source": [
        "print(5+2)"
      ],
      "metadata": {
        "colab": {
          "base_uri": "https://localhost:8080/"
        },
        "id": "KDn7wztLEcwd",
        "outputId": "17aba99a-bb1c-42d1-df2a-0a0b2ec81102"
      },
      "execution_count": null,
      "outputs": [
        {
          "output_type": "stream",
          "name": "stdout",
          "text": [
            "7\n"
          ]
        }
      ]
    },
    {
      "cell_type": "code",
      "source": [
        "number1 = 35\n",
        "number2 = 65\n",
        "print(number1+number2)"
      ],
      "metadata": {
        "colab": {
          "base_uri": "https://localhost:8080/"
        },
        "id": "4Vsf_Iy-FGBL",
        "outputId": "ff26e71a-0976-4f39-e54c-7d76f4f9d26c"
      },
      "execution_count": null,
      "outputs": [
        {
          "output_type": "stream",
          "name": "stdout",
          "text": [
            "100\n"
          ]
        }
      ]
    },
    {
      "cell_type": "code",
      "source": [
        "#this code for variable declaration"
      ],
      "metadata": {
        "id": "4vkuAP8rFOa-"
      },
      "execution_count": null,
      "outputs": []
    },
    {
      "cell_type": "code",
      "source": [
        "2\n",
        "number1 = int(input(\"enter a number1:\"))\n",
        "number2 = int(input(\"enter a number2:\"))\n",
        "print(number1 + number2)"
      ],
      "metadata": {
        "colab": {
          "base_uri": "https://localhost:8080/"
        },
        "id": "8Dqgdal_FYxa",
        "outputId": "6ffedf29-5bdd-458e-81e4-351688c74d5d"
      },
      "execution_count": null,
      "outputs": [
        {
          "output_type": "stream",
          "name": "stdout",
          "text": [
            "enter a number1:1\n",
            "enter a number2:2\n",
            "3\n"
          ]
        }
      ]
    },
    {
      "cell_type": "code",
      "source": [
        "number1 = int(input(\"enter a number 1 :\"))\n",
        "number2 = int(input(\"enter a number2 : \"))\n",
        "print(number1 - number2)"
      ],
      "metadata": {
        "colab": {
          "base_uri": "https://localhost:8080/"
        },
        "id": "V4g3oEMkGJv6",
        "outputId": "a2387560-9a36-4fb9-c2a1-87d8a6cd4eb4"
      },
      "execution_count": null,
      "outputs": [
        {
          "output_type": "stream",
          "name": "stdout",
          "text": [
            "enter a number 1 :1\n",
            "enter a number2 : 2\n",
            "-1\n"
          ]
        }
      ]
    },
    {
      "cell_type": "code",
      "source": [
        "number1 = int(input(\"enter a number1 : \"))\n",
        "\"\"\"\n",
        "this is taking input\n",
        "from user\n",
        "\"\"\"\n",
        "number2 = int(input(\"enter a number2 : \"))\n",
        "print(number1 * number2)\n"
      ],
      "metadata": {
        "colab": {
          "base_uri": "https://localhost:8080/"
        },
        "id": "9ebcDOUCGdh9",
        "outputId": "915840c4-4f11-4949-9299-29f422b85a34"
      },
      "execution_count": null,
      "outputs": [
        {
          "output_type": "stream",
          "name": "stdout",
          "text": [
            "enter a number1 : 1\n",
            "enter a number2 : 2\n",
            "2\n"
          ]
        }
      ]
    },
    {
      "cell_type": "code",
      "source": [
        "number1 = int(input(\"enter a number1 :\"))\n",
        "number2 = int(input(\"enter a number2 : \"))\n",
        "print(number1 + number2)"
      ],
      "metadata": {
        "colab": {
          "base_uri": "https://localhost:8080/"
        },
        "id": "Iu6tDqnQGsmz",
        "outputId": "3f193ed6-fecf-426a-dfe5-cd995ade9db8"
      },
      "execution_count": null,
      "outputs": [
        {
          "output_type": "stream",
          "name": "stdout",
          "text": [
            "enter a number1 :1\n",
            "enter a number2 : 2\n",
            "3\n"
          ]
        }
      ]
    },
    {
      "cell_type": "code",
      "source": [
        "#this code for taking input from user"
      ],
      "metadata": {
        "id": "KcD1Zt6wFzRs"
      },
      "execution_count": null,
      "outputs": []
    },
    {
      "cell_type": "code",
      "source": [
        "a = 10\n",
        "print(type(a))\n",
        "\n",
        "b = \"sajith\"\n",
        "print(type(b))\n",
        "\n",
        "c = 5.6\n",
        "\n",
        "d = [\"appple\", \"mango\", \"tomatto\"]\n",
        "\n",
        "e = (\"apple\", \"mango\", \"tomatto\")\n",
        "\n",
        "f = {\"apple\", \"mango\", \"tomatto\"}\n",
        "\n",
        "\n",
        "print(type(c))\n",
        "print(type(d))\n",
        "print(type(e))\n",
        "print(type(f))\n",
        "\n",
        "#this code for printing type #"
      ],
      "metadata": {
        "colab": {
          "base_uri": "https://localhost:8080/"
        },
        "id": "c-vL5vLGHjTi",
        "outputId": "d79fe54f-d954-4b36-89f1-419d80e6a30b"
      },
      "execution_count": null,
      "outputs": [
        {
          "output_type": "stream",
          "name": "stdout",
          "text": [
            "<class 'int'>\n",
            "<class 'str'>\n",
            "<class 'float'>\n",
            "<class 'list'>\n",
            "<class 'tuple'>\n",
            "<class 'set'>\n"
          ]
        }
      ]
    },
    {
      "cell_type": "code",
      "source": [
        "a = int(input(\"enter a number1 :\"))\n",
        "b = int(input(\"enter a number2 :\"))\n",
        "c = int(input(\"enter a number3 :\"))\n",
        "\n",
        "if(a > b and a > c):\n",
        "  print(a)\n",
        "elif(b > a and b > c):\n",
        "  print(b)\n",
        "else:\n",
        "  print(c)\n",
        "\n",
        "  #thsi code for finding maximum number\n",
        "\n"
      ],
      "metadata": {
        "colab": {
          "base_uri": "https://localhost:8080/"
        },
        "id": "68kl78TWIfMW",
        "outputId": "bb9dcc53-b7ed-4f69-bdfe-376028e24ef6"
      },
      "execution_count": null,
      "outputs": [
        {
          "output_type": "stream",
          "name": "stdout",
          "text": [
            "enter a number1 :1\n",
            "enter a number2 :45\n",
            "enter a number3 :67\n",
            "67\n"
          ]
        }
      ]
    },
    {
      "cell_type": "code",
      "source": [
        "a = int(input(\"enter a number\"))\n",
        "if (a % 2 == 0):\n",
        "  print(\"even\")\n",
        "else:\n",
        "  print(\"odd\")\n",
        "\n",
        "  #this code for find even or odd"
      ],
      "metadata": {
        "colab": {
          "base_uri": "https://localhost:8080/"
        },
        "id": "LfUkX91QOGHG",
        "outputId": "dff1dc0b-4371-413d-cd05-e2b60b3367af"
      },
      "execution_count": null,
      "outputs": [
        {
          "output_type": "stream",
          "name": "stdout",
          "text": [
            "enter a number34\n",
            "even\n"
          ]
        }
      ]
    },
    {
      "cell_type": "code",
      "source": [
        "n= 8\n",
        "fact = 1\n",
        "i = 1\n",
        "for i in range(1, n + 1):\n",
        "  fact = fact * i\n",
        "print(fact)\n",
        "\n",
        "# this code for print factorial number"
      ],
      "metadata": {
        "colab": {
          "base_uri": "https://localhost:8080/"
        },
        "id": "MljbxEbtIQqW",
        "outputId": "7d03d45d-15db-4f53-8afb-f60392a3982f"
      },
      "execution_count": null,
      "outputs": [
        {
          "output_type": "stream",
          "name": "stdout",
          "text": [
            "40320\n"
          ]
        }
      ]
    },
    {
      "cell_type": "code",
      "source": [
        "a = 45\n",
        "b = 23\n",
        "a,b = b,a\n",
        "print(\"number a is\", a)\n",
        "print(\"number b is\", b)\n",
        "# this code for swap two values"
      ],
      "metadata": {
        "colab": {
          "base_uri": "https://localhost:8080/"
        },
        "id": "SQvHXALDYqR2",
        "outputId": "a1f28c67-befa-426c-e9e9-ba0153cc435c"
      },
      "execution_count": null,
      "outputs": [
        {
          "output_type": "stream",
          "name": "stdout",
          "text": [
            "number a is 23\n",
            "number b is 45\n"
          ]
        }
      ]
    },
    {
      "cell_type": "code",
      "source": [
        "a = 45\n",
        "b = 23\n",
        "temp = 0\n",
        "temp = a\n",
        "a = b\n",
        "b = temp\n",
        "print(\"number a is\", a )\n",
        "print(\"number b is\", b )\n",
        "\n",
        "#this code for swap two values using temporary value\n"
      ],
      "metadata": {
        "colab": {
          "base_uri": "https://localhost:8080/"
        },
        "id": "LtjQZ_uZZmKX",
        "outputId": "5dc8dd07-6c90-4d0c-b806-8441befa0a56"
      },
      "execution_count": null,
      "outputs": [
        {
          "output_type": "stream",
          "name": "stdout",
          "text": [
            "number a is 23\n",
            "number b is 45\n"
          ]
        }
      ]
    },
    {
      "cell_type": "code",
      "source": [
        "def fib(n):\n",
        "  a = 0\n",
        "  b = 1\n",
        "  print(a)\n",
        "  print(b)\n",
        "  for i in range(2,n):\n",
        "    c = a + b\n",
        "    a = b\n",
        "    b = c\n",
        "    print(c)\n",
        "fib(10)"
      ],
      "metadata": {
        "colab": {
          "base_uri": "https://localhost:8080/"
        },
        "id": "b6AdZTCctuiG",
        "outputId": "b86c08c0-faab-4a45-978d-4f1f54e3ab90"
      },
      "execution_count": null,
      "outputs": [
        {
          "output_type": "stream",
          "name": "stdout",
          "text": [
            "0\n",
            "1\n",
            "1\n",
            "2\n",
            "3\n",
            "5\n",
            "8\n",
            "13\n",
            "21\n",
            "34\n"
          ]
        }
      ]
    },
    {
      "cell_type": "code",
      "source": [
        "x = 4\n",
        "x = \"sajith\"\n",
        "print(x)"
      ],
      "metadata": {
        "colab": {
          "base_uri": "https://localhost:8080/"
        },
        "id": "yGLUT5AjG8bd",
        "outputId": "26025406-e3a2-4880-8d0f-d4167f3d9e8d"
      },
      "execution_count": 2,
      "outputs": [
        {
          "output_type": "stream",
          "name": "stdout",
          "text": [
            "sajith\n"
          ]
        }
      ]
    },
    {
      "cell_type": "code",
      "source": [
        "a,b,c= \"sajith\", \"sooraj\", \"akash\"\n",
        "print(a)\n",
        "print(b)\n",
        "print(c)"
      ],
      "metadata": {
        "colab": {
          "base_uri": "https://localhost:8080/"
        },
        "id": "9nxdgEW7HET9",
        "outputId": "53076b9a-4373-4d0a-a49e-310ba5567d2d"
      },
      "execution_count": 3,
      "outputs": [
        {
          "output_type": "stream",
          "name": "stdout",
          "text": [
            "sajith\n",
            "sooraj\n",
            "akash\n"
          ]
        }
      ]
    },
    {
      "cell_type": "code",
      "source": [
        "list = [\"apple\", \"orange\", \"mango\"]\n",
        "x,y,z= list\n",
        "print(x)\n",
        "print(y)\n",
        "print(z)"
      ],
      "metadata": {
        "colab": {
          "base_uri": "https://localhost:8080/"
        },
        "id": "T2qdq0GuHKWJ",
        "outputId": "4f5fff65-3443-4968-991b-41ea7be20253"
      },
      "execution_count": 4,
      "outputs": [
        {
          "output_type": "stream",
          "name": "stdout",
          "text": [
            "apple\n",
            "orange\n",
            "mango\n"
          ]
        }
      ]
    },
    {
      "cell_type": "code",
      "source": [
        "def function(a,b):\n",
        "  print(a + b)\n",
        "function(10,15)"
      ],
      "metadata": {
        "colab": {
          "base_uri": "https://localhost:8080/"
        },
        "id": "l7Mnpwo2HPPa",
        "outputId": "cef5923d-b1b1-483f-f335-a5c3c53431eb"
      },
      "execution_count": 5,
      "outputs": [
        {
          "output_type": "stream",
          "name": "stdout",
          "text": [
            "25\n"
          ]
        }
      ]
    },
    {
      "cell_type": "code",
      "source": [
        "a  = 10 # this is local variable\n",
        "b = 12\n",
        "def function():\n",
        "  global x #this keyword is use to converting local variable to global variable\n",
        "  a = 25\n",
        "  b = 23\n",
        "  #print(a + b)\n",
        "function()\n",
        "print(a+b)"
      ],
      "metadata": {
        "colab": {
          "base_uri": "https://localhost:8080/"
        },
        "id": "SdvLtIvqHTdu",
        "outputId": "8964cf0b-a206-490d-ce46-17c3f99f54a0"
      },
      "execution_count": 6,
      "outputs": [
        {
          "output_type": "stream",
          "name": "stdout",
          "text": [
            "22\n"
          ]
        }
      ]
    },
    {
      "cell_type": "code",
      "source": [
        "x = 10\n",
        "def function(x):\n",
        "  function(x)\n",
        "  print(x)"
      ],
      "metadata": {
        "id": "oXhhLSlOHVaL"
      },
      "execution_count": 8,
      "outputs": []
    },
    {
      "cell_type": "code",
      "source": [
        "x = 2.5\n",
        "y = 10\n",
        "z  =3+5j\n",
        "a = int(x)\n",
        "b = float(y)\n",
        "c = (z)\n",
        "print(a)\n",
        "print(b)\n",
        "print(c)\n"
      ],
      "metadata": {
        "colab": {
          "base_uri": "https://localhost:8080/"
        },
        "id": "T5D11Rb5HfC_",
        "outputId": "abdadd73-f072-4bdd-933f-1c663a811339"
      },
      "execution_count": 9,
      "outputs": [
        {
          "output_type": "stream",
          "name": "stdout",
          "text": [
            "2\n",
            "10.0\n",
            "(3+5j)\n"
          ]
        }
      ]
    },
    {
      "cell_type": "code",
      "source": [
        "import random\n",
        "print(random.randrange(0,50,5))"
      ],
      "metadata": {
        "colab": {
          "base_uri": "https://localhost:8080/"
        },
        "id": "s34catMcHjT-",
        "outputId": "c92de0a0-8626-4545-bb57-cf70c4e353e1"
      },
      "execution_count": 10,
      "outputs": [
        {
          "output_type": "stream",
          "name": "stdout",
          "text": [
            "5\n"
          ]
        }
      ]
    },
    {
      "cell_type": "code",
      "source": [
        "sports = \"sajith is a volleyball player\"\n",
        "print(sports)"
      ],
      "metadata": {
        "colab": {
          "base_uri": "https://localhost:8080/"
        },
        "id": "qj8jc7pKHpos",
        "outputId": "01008cea-834b-4a84-d9d9-6b8311224eb0"
      },
      "execution_count": 11,
      "outputs": [
        {
          "output_type": "stream",
          "name": "stdout",
          "text": [
            "sajith is a volleyball player\n"
          ]
        }
      ]
    },
    {
      "cell_type": "code",
      "source": [
        "for letters in \"banana\":\n",
        "  print(letters)\n",
        "list = [\"apple\",\"banana\",\"mango\"]"
      ],
      "metadata": {
        "colab": {
          "base_uri": "https://localhost:8080/"
        },
        "id": "bGrZoCW2HvPr",
        "outputId": "506e9a7b-c1d5-4c14-af25-93d77eab0595"
      },
      "execution_count": 12,
      "outputs": [
        {
          "output_type": "stream",
          "name": "stdout",
          "text": [
            "b\n",
            "a\n",
            "n\n",
            "a\n",
            "n\n",
            "a\n"
          ]
        }
      ]
    },
    {
      "cell_type": "code",
      "source": [
        "a = \"sajith is a sports player\"\n",
        "print(len(a))\n",
        "print(\"sport\" in a)\n",
        "print(a[0:7])\n",
        "print(a[:7])\n",
        "print(a[0:])\n",
        "print(a.replace(\"sajith\", \"rpr\"))\n",
        "print(a.upper())\n",
        "print(a.lower())\n",
        "print(a.strip())\n",
        "print(a.split(\" a \"))\n",
        "\n"
      ],
      "metadata": {
        "colab": {
          "base_uri": "https://localhost:8080/"
        },
        "id": "e-7DzHTgHz8C",
        "outputId": "8780688b-c2a8-48eb-9fec-be15ee3ab848"
      },
      "execution_count": 13,
      "outputs": [
        {
          "output_type": "stream",
          "name": "stdout",
          "text": [
            "25\n",
            "True\n",
            "sajith \n",
            "sajith \n",
            "sajith is a sports player\n",
            "rpr is a sports player\n",
            "SAJITH IS A SPORTS PLAYER\n",
            "sajith is a sports player\n",
            "sajith is a sports player\n",
            "['sajith is', 'sports player']\n"
          ]
        }
      ]
    },
    {
      "cell_type": "code",
      "source": [
        "print(bool(3))\n",
        "print(10 > 3)"
      ],
      "metadata": {
        "colab": {
          "base_uri": "https://localhost:8080/"
        },
        "id": "EphImE7RH47p",
        "outputId": "0f20ccbc-9f68-4fb6-c3d3-7ea244e0c15b"
      },
      "execution_count": 14,
      "outputs": [
        {
          "output_type": "stream",
          "name": "stdout",
          "text": [
            "True\n",
            "True\n"
          ]
        }
      ]
    },
    {
      "cell_type": "code",
      "source": [
        "list1 = [\"volleyball\", \"cricket\", \"basketball\"]\n",
        "list2 = [\"car\", \"bike\", \"auto\"]\n",
        "a = list1 + list2\n",
        "a[4]= \"sajith\"\n",
        "print(a)\n",
        "print(a)\n",
        "print(len(list1 + list2))\n",
        "print(list1[2])\n",
        "print(list1[1:3])\n",
        "a.insert(2,\"football\")\n",
        "print(a)\n",
        "a.remove(\"football\")\n",
        "print(a)\n",
        "a.pop(3)"
      ],
      "metadata": {
        "colab": {
          "base_uri": "https://localhost:8080/",
          "height": 157
        },
        "id": "1aMFzdPEH-NO",
        "outputId": "ff17f43b-5b70-41f2-afff-b4c5fd0801ff"
      },
      "execution_count": 15,
      "outputs": [
        {
          "output_type": "stream",
          "name": "stdout",
          "text": [
            "['volleyball', 'cricket', 'basketball', 'car', 'sajith', 'auto']\n",
            "['volleyball', 'cricket', 'basketball', 'car', 'sajith', 'auto']\n",
            "6\n",
            "basketball\n",
            "['cricket', 'basketball']\n",
            "['volleyball', 'cricket', 'football', 'basketball', 'car', 'sajith', 'auto']\n",
            "['volleyball', 'cricket', 'basketball', 'car', 'sajith', 'auto']\n"
          ]
        },
        {
          "output_type": "execute_result",
          "data": {
            "text/plain": [
              "'car'"
            ],
            "application/vnd.google.colaboratory.intrinsic+json": {
              "type": "string"
            }
          },
          "metadata": {},
          "execution_count": 15
        }
      ]
    },
    {
      "cell_type": "code",
      "source": [
        "list1 = [\"34\",\"67\",\"21\",\"54\",\"33\"]\n",
        "list1.sort()\n",
        "print(list1)\n",
        "list1.sort(reverse=True)\n",
        "print(list1)"
      ],
      "metadata": {
        "colab": {
          "base_uri": "https://localhost:8080/"
        },
        "id": "w9bHVhSYIEXo",
        "outputId": "7234ff3c-c87c-4de0-bb26-1891605fb533"
      },
      "execution_count": 17,
      "outputs": [
        {
          "output_type": "stream",
          "name": "stdout",
          "text": [
            "['21', '33', '34', '54', '67']\n",
            "['67', '54', '34', '33', '21']\n"
          ]
        }
      ]
    },
    {
      "cell_type": "code",
      "source": [
        "list4 = ['3','4','5']\n",
        "list5 = ['a', 'b', 'c']\n",
        "list4.extend(list5)\n",
        "list4"
      ],
      "metadata": {
        "colab": {
          "base_uri": "https://localhost:8080/"
        },
        "id": "GxGlMBChITLr",
        "outputId": "9ccaa543-b9d8-4866-c49f-592986da5ff2"
      },
      "execution_count": 18,
      "outputs": [
        {
          "output_type": "execute_result",
          "data": {
            "text/plain": [
              "['3', '4', '5', 'a', 'b', 'c']"
            ]
          },
          "metadata": {},
          "execution_count": 18
        }
      ]
    },
    {
      "cell_type": "code",
      "source": [
        "tuple = {\"sajith\", \"priyanga\",\"praveen\"}\n",
        "print(len(tuple))\n",
        "print"
      ],
      "metadata": {
        "colab": {
          "base_uri": "https://localhost:8080/"
        },
        "id": "7TEU5glxIY2R",
        "outputId": "bf1f4e20-7f8b-4d8a-c135-8120eb98a62e"
      },
      "execution_count": 21,
      "outputs": [
        {
          "output_type": "stream",
          "name": "stdout",
          "text": [
            "3\n"
          ]
        },
        {
          "output_type": "execute_result",
          "data": {
            "text/plain": [
              "<function print>"
            ]
          },
          "metadata": {},
          "execution_count": 21
        }
      ]
    },
    {
      "cell_type": "code",
      "source": [
        "Tuple = (\"sajith\", \"priyanga\",\"praveen\")\n",
        "print(Tuple)"
      ],
      "metadata": {
        "colab": {
          "base_uri": "https://localhost:8080/"
        },
        "id": "8EQ3Qdf-I0OX",
        "outputId": "1334d9aa-46c1-4444-b270-eb1ddbace0a6"
      },
      "execution_count": 22,
      "outputs": [
        {
          "output_type": "stream",
          "name": "stdout",
          "text": [
            "('sajith', 'priyanga', 'praveen')\n"
          ]
        }
      ]
    }
  ]
}